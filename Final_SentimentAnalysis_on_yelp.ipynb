{
  "nbformat": 4,
  "nbformat_minor": 0,
  "metadata": {
    "colab": {
      "name": "Final_SentimentAnalysis on yelp.ipynb",
      "version": "0.3.2",
      "provenance": []
    },
    "kernelspec": {
      "name": "python3",
      "display_name": "Python 3"
    }
  },
  "cells": [
    {
      "metadata": {
        "id": "W_VN2PAPaGQm",
        "colab_type": "code",
        "colab": {
          "base_uri": "https://localhost:8080/",
          "height": 125
        },
        "outputId": "387df8e0-f5ed-4eb9-c0df-826ae82e6229"
      },
      "cell_type": "code",
      "source": [
        "from google.colab import drive\n",
        "drive.mount('/tfcontent')"
      ],
      "execution_count": 1,
      "outputs": [
        {
          "output_type": "stream",
          "text": [
            "Go to this URL in a browser: https://accounts.google.com/o/oauth2/auth?client_id=947318989803-6bn6qk8qdgf4n4g3pfee6491hc0brc4i.apps.googleusercontent.com&redirect_uri=urn%3Aietf%3Awg%3Aoauth%3A2.0%3Aoob&scope=email%20https%3A%2F%2Fwww.googleapis.com%2Fauth%2Fdocs.test%20https%3A%2F%2Fwww.googleapis.com%2Fauth%2Fdrive%20https%3A%2F%2Fwww.googleapis.com%2Fauth%2Fdrive.photos.readonly%20https%3A%2F%2Fwww.googleapis.com%2Fauth%2Fpeopleapi.readonly&response_type=code\n",
            "\n",
            "Enter your authorization code:\n",
            "··········\n",
            "Mounted at /tfcontent\n"
          ],
          "name": "stdout"
        }
      ]
    },
    {
      "metadata": {
        "id": "IOu3S9UoadiH",
        "colab_type": "code",
        "colab": {
          "base_uri": "https://localhost:8080/",
          "height": 197
        },
        "outputId": "b0287d98-4f26-4dd1-843e-dcebb13bd08b"
      },
      "cell_type": "code",
      "source": [
        "import pandas as pd \n",
        "import numpy as np\n",
        "data=pd.read_csv(r'/tfcontent/My Drive/yelp.csv')\n",
        "data.head()"
      ],
      "execution_count": 2,
      "outputs": [
        {
          "output_type": "execute_result",
          "data": {
            "text/html": [
              "<div>\n",
              "<style scoped>\n",
              "    .dataframe tbody tr th:only-of-type {\n",
              "        vertical-align: middle;\n",
              "    }\n",
              "\n",
              "    .dataframe tbody tr th {\n",
              "        vertical-align: top;\n",
              "    }\n",
              "\n",
              "    .dataframe thead th {\n",
              "        text-align: right;\n",
              "    }\n",
              "</style>\n",
              "<table border=\"1\" class=\"dataframe\">\n",
              "  <thead>\n",
              "    <tr style=\"text-align: right;\">\n",
              "      <th></th>\n",
              "      <th>stars</th>\n",
              "      <th>text</th>\n",
              "    </tr>\n",
              "  </thead>\n",
              "  <tbody>\n",
              "    <tr>\n",
              "      <th>0</th>\n",
              "      <td>5</td>\n",
              "      <td>My wife took me here on my birthday for breakf...</td>\n",
              "    </tr>\n",
              "    <tr>\n",
              "      <th>1</th>\n",
              "      <td>5</td>\n",
              "      <td>I have no idea why some people give bad review...</td>\n",
              "    </tr>\n",
              "    <tr>\n",
              "      <th>2</th>\n",
              "      <td>4</td>\n",
              "      <td>love the gyro plate. Rice is so good and I als...</td>\n",
              "    </tr>\n",
              "    <tr>\n",
              "      <th>3</th>\n",
              "      <td>5</td>\n",
              "      <td>Rosie, Dakota, and I LOVE Chaparral Dog Park!!...</td>\n",
              "    </tr>\n",
              "    <tr>\n",
              "      <th>4</th>\n",
              "      <td>5</td>\n",
              "      <td>General Manager Scott Petello is a good egg!!!...</td>\n",
              "    </tr>\n",
              "  </tbody>\n",
              "</table>\n",
              "</div>"
            ],
            "text/plain": [
              "   stars                                               text\n",
              "0      5  My wife took me here on my birthday for breakf...\n",
              "1      5  I have no idea why some people give bad review...\n",
              "2      4  love the gyro plate. Rice is so good and I als...\n",
              "3      5  Rosie, Dakota, and I LOVE Chaparral Dog Park!!...\n",
              "4      5  General Manager Scott Petello is a good egg!!!..."
            ]
          },
          "metadata": {
            "tags": []
          },
          "execution_count": 2
        }
      ]
    },
    {
      "metadata": {
        "id": "9shqcjYHaiz4",
        "colab_type": "code",
        "colab": {
          "base_uri": "https://localhost:8080/",
          "height": 52
        },
        "outputId": "23fe8a27-3249-4588-aa5e-bf7731fc6833"
      },
      "cell_type": "code",
      "source": [
        "x=data['text']\n",
        "y=data['stars']\n",
        "print(x.shape)\n",
        "print(y.shape)"
      ],
      "execution_count": 3,
      "outputs": [
        {
          "output_type": "stream",
          "text": [
            "(10000,)\n",
            "(10000,)\n"
          ],
          "name": "stdout"
        }
      ]
    },
    {
      "metadata": {
        "id": "pqMOjSmsawdV",
        "colab_type": "code",
        "colab": {
          "base_uri": "https://localhost:8080/",
          "height": 197
        },
        "outputId": "cc5db78f-b8de-42a9-e9ae-40a627b5b7eb"
      },
      "cell_type": "code",
      "source": [
        "data['Label']=['1' if star > 3 else '0' for star in data['stars']];\n",
        "data.head()"
      ],
      "execution_count": 4,
      "outputs": [
        {
          "output_type": "execute_result",
          "data": {
            "text/html": [
              "<div>\n",
              "<style scoped>\n",
              "    .dataframe tbody tr th:only-of-type {\n",
              "        vertical-align: middle;\n",
              "    }\n",
              "\n",
              "    .dataframe tbody tr th {\n",
              "        vertical-align: top;\n",
              "    }\n",
              "\n",
              "    .dataframe thead th {\n",
              "        text-align: right;\n",
              "    }\n",
              "</style>\n",
              "<table border=\"1\" class=\"dataframe\">\n",
              "  <thead>\n",
              "    <tr style=\"text-align: right;\">\n",
              "      <th></th>\n",
              "      <th>stars</th>\n",
              "      <th>text</th>\n",
              "      <th>Label</th>\n",
              "    </tr>\n",
              "  </thead>\n",
              "  <tbody>\n",
              "    <tr>\n",
              "      <th>0</th>\n",
              "      <td>5</td>\n",
              "      <td>My wife took me here on my birthday for breakf...</td>\n",
              "      <td>1</td>\n",
              "    </tr>\n",
              "    <tr>\n",
              "      <th>1</th>\n",
              "      <td>5</td>\n",
              "      <td>I have no idea why some people give bad review...</td>\n",
              "      <td>1</td>\n",
              "    </tr>\n",
              "    <tr>\n",
              "      <th>2</th>\n",
              "      <td>4</td>\n",
              "      <td>love the gyro plate. Rice is so good and I als...</td>\n",
              "      <td>1</td>\n",
              "    </tr>\n",
              "    <tr>\n",
              "      <th>3</th>\n",
              "      <td>5</td>\n",
              "      <td>Rosie, Dakota, and I LOVE Chaparral Dog Park!!...</td>\n",
              "      <td>1</td>\n",
              "    </tr>\n",
              "    <tr>\n",
              "      <th>4</th>\n",
              "      <td>5</td>\n",
              "      <td>General Manager Scott Petello is a good egg!!!...</td>\n",
              "      <td>1</td>\n",
              "    </tr>\n",
              "  </tbody>\n",
              "</table>\n",
              "</div>"
            ],
            "text/plain": [
              "   stars                                               text Label\n",
              "0      5  My wife took me here on my birthday for breakf...     1\n",
              "1      5  I have no idea why some people give bad review...     1\n",
              "2      4  love the gyro plate. Rice is so good and I als...     1\n",
              "3      5  Rosie, Dakota, and I LOVE Chaparral Dog Park!!...     1\n",
              "4      5  General Manager Scott Petello is a good egg!!!...     1"
            ]
          },
          "metadata": {
            "tags": []
          },
          "execution_count": 4
        }
      ]
    },
    {
      "metadata": {
        "id": "qTev2Tpwa1ne",
        "colab_type": "code",
        "colab": {
          "base_uri": "https://localhost:8080/",
          "height": 123
        },
        "outputId": "3043f7f4-8779-4495-b26c-4dc5873bc5f6"
      },
      "cell_type": "code",
      "source": [
        "y=data['Label']\n",
        "y.head()"
      ],
      "execution_count": 6,
      "outputs": [
        {
          "output_type": "execute_result",
          "data": {
            "text/plain": [
              "0    1\n",
              "1    1\n",
              "2    1\n",
              "3    1\n",
              "4    1\n",
              "Name: Label, dtype: object"
            ]
          },
          "metadata": {
            "tags": []
          },
          "execution_count": 6
        }
      ]
    },
    {
      "metadata": {
        "id": "8cW1-lJpbIGr",
        "colab_type": "code",
        "colab": {
          "base_uri": "https://localhost:8080/",
          "height": 52
        },
        "outputId": "5ed8814a-19be-4be7-bc44-1f5e013c1ad0"
      },
      "cell_type": "code",
      "source": [
        "import nltk\n",
        "nltk.download('stopwords')\n",
        "# import string # importing string bcz was getting string error while joining sentences\n",
        "stop = set(stopwords.words('english'))"
      ],
      "execution_count": 9,
      "outputs": [
        {
          "output_type": "stream",
          "text": [
            "[nltk_data] Downloading package stopwords to /root/nltk_data...\n",
            "[nltk_data]   Unzipping corpora/stopwords.zip.\n"
          ],
          "name": "stdout"
        }
      ]
    },
    {
      "metadata": {
        "id": "6gsEf2X6blfF",
        "colab_type": "code",
        "colab": {}
      },
      "cell_type": "code",
      "source": [
        "def clean_document(doco):\n",
        "    punctuation = string.punctuation\n",
        "    punc_replace = ''.join([' ' for s in punctuation])\n",
        "    doco_link_clean = re.sub(r'http\\S+', '', doco)\n",
        "    doco_clean_and = re.sub(r'&\\S+', '', doco_link_clean)\n",
        "    doco_clean_at = re.sub(r'@\\S+', '', doco_clean_and)\n",
        "    doco_clean = doco_clean_at.replace('-', ' ')\n",
        "    doco_alphas = re.sub(r'\\W +', ' ', doco_clean)\n",
        "    trans_table = str.maketrans(punctuation, punc_replace)\n",
        "    doco_clean = ' '.join([word.translate(trans_table) for word in doco_alphas.split(' ')])\n",
        "    doco_clean = doco_clean.split(' ')\n",
        "    p = re.compile(r'\\s*\\b(?=[a-z\\d]*([a-z\\d])\\1{3}|\\d+\\b)[a-z\\d]+', re.IGNORECASE)\n",
        "    doco_clean = ([p.sub(\"\", x).strip() for x in doco_clean])\n",
        "    doco_clean = [word.lower() for word in doco_clean if len(word) > 2]\n",
        "    doco_clean = ([i for i in doco_clean if i not in stop])\n",
        "#     doco_clean = [spell(word) for word in doco_clean]\n",
        "#     p = re.compile(r'\\s*\\b(?=[a-z\\d]*([a-z\\d])\\1{3}|\\d+\\b)[a-z\\d]+', re.IGNORECASE)\n",
        "    doco_clean = ([p.sub(\"\", x).strip() for x in doco_clean])\n",
        "#     doco_clean = ([spell(k) for k in doco_clean])\n",
        "    return doco_clean"
      ],
      "execution_count": 0,
      "outputs": []
    },
    {
      "metadata": {
        "id": "DKpDLeFZbqsZ",
        "colab_type": "code",
        "colab": {}
      },
      "cell_type": "code",
      "source": [
        "import re # bcz was getting NameError: global name 're' is not defined\n",
        "import string # importing string bcz was getting string error while joining sentences"
      ],
      "execution_count": 0,
      "outputs": []
    },
    {
      "metadata": {
        "id": "UioH0B32bwSY",
        "colab_type": "code",
        "colab": {}
      },
      "cell_type": "code",
      "source": [
        "cleaned_reviews = [clean_document(doc) for doc in data['text']];\n",
        "sentences = [' '.join(r) for r in cleaned_reviews ] #joining"
      ],
      "execution_count": 0,
      "outputs": []
    },
    {
      "metadata": {
        "id": "z08_L9xib67Z",
        "colab_type": "code",
        "colab": {
          "base_uri": "https://localhost:8080/",
          "height": 125
        },
        "outputId": "f28c2ee4-b8de-4fc5-cb37-bccecf899ff5"
      },
      "cell_type": "code",
      "source": [
        "print(x[12],'\\n')\n",
        "\n",
        "print(sentences[12])"
      ],
      "execution_count": 13,
      "outputs": [
        {
          "output_type": "stream",
          "text": [
            "They have a limited time thing going on right now with BBQ chicken pizza (not sure how long it's going to last) but let me just say it was amazing.  Probably THE best BBQ Chicken pizza I have ever had.  I have tried other things too, like the tomato basil soup, and many of their sandwiches ... very good, very fresh - every time.  \n",
            "\n",
            "The 5 stars is for the pizza, but if I were to rate Jason's Deli over all they would get about a 4. \n",
            "\n",
            "limited time thing going right bbq chicken pizza sure long going last let say amazing probably best bbq chicken pizza ever tried things like tomato basil soup many sandwiches good fresh every time stars pizza rate jason deli would get\n"
          ],
          "name": "stdout"
        }
      ]
    },
    {
      "metadata": {
        "id": "hcumhPeEb-jL",
        "colab_type": "code",
        "colab": {
          "base_uri": "https://localhost:8080/",
          "height": 197
        },
        "outputId": "08b5a50c-b9b7-4d45-bde4-855dc24efb6e"
      },
      "cell_type": "code",
      "source": [
        "data['cleaned_text'] = sentences\n",
        "data.head(5)\n"
      ],
      "execution_count": 15,
      "outputs": [
        {
          "output_type": "execute_result",
          "data": {
            "text/html": [
              "<div>\n",
              "<style scoped>\n",
              "    .dataframe tbody tr th:only-of-type {\n",
              "        vertical-align: middle;\n",
              "    }\n",
              "\n",
              "    .dataframe tbody tr th {\n",
              "        vertical-align: top;\n",
              "    }\n",
              "\n",
              "    .dataframe thead th {\n",
              "        text-align: right;\n",
              "    }\n",
              "</style>\n",
              "<table border=\"1\" class=\"dataframe\">\n",
              "  <thead>\n",
              "    <tr style=\"text-align: right;\">\n",
              "      <th></th>\n",
              "      <th>stars</th>\n",
              "      <th>text</th>\n",
              "      <th>Label</th>\n",
              "      <th>cleaned_text</th>\n",
              "    </tr>\n",
              "  </thead>\n",
              "  <tbody>\n",
              "    <tr>\n",
              "      <th>0</th>\n",
              "      <td>5</td>\n",
              "      <td>My wife took me here on my birthday for breakf...</td>\n",
              "      <td>1</td>\n",
              "      <td>wife took birthday breakfast excellent weather...</td>\n",
              "    </tr>\n",
              "    <tr>\n",
              "      <th>1</th>\n",
              "      <td>5</td>\n",
              "      <td>I have no idea why some people give bad review...</td>\n",
              "      <td>1</td>\n",
              "      <td>idea people give bad reviews place goes show p...</td>\n",
              "    </tr>\n",
              "    <tr>\n",
              "      <th>2</th>\n",
              "      <td>4</td>\n",
              "      <td>love the gyro plate. Rice is so good and I als...</td>\n",
              "      <td>1</td>\n",
              "      <td>love gyro plate rice good also dig candy selec...</td>\n",
              "    </tr>\n",
              "    <tr>\n",
              "      <th>3</th>\n",
              "      <td>5</td>\n",
              "      <td>Rosie, Dakota, and I LOVE Chaparral Dog Park!!...</td>\n",
              "      <td>1</td>\n",
              "      <td>rosie dakota love chaparral dog park convenien...</td>\n",
              "    </tr>\n",
              "    <tr>\n",
              "      <th>4</th>\n",
              "      <td>5</td>\n",
              "      <td>General Manager Scott Petello is a good egg!!!...</td>\n",
              "      <td>1</td>\n",
              "      <td>general manager scott petello good egg detail ...</td>\n",
              "    </tr>\n",
              "  </tbody>\n",
              "</table>\n",
              "</div>"
            ],
            "text/plain": [
              "   stars                                               text Label  \\\n",
              "0      5  My wife took me here on my birthday for breakf...     1   \n",
              "1      5  I have no idea why some people give bad review...     1   \n",
              "2      4  love the gyro plate. Rice is so good and I als...     1   \n",
              "3      5  Rosie, Dakota, and I LOVE Chaparral Dog Park!!...     1   \n",
              "4      5  General Manager Scott Petello is a good egg!!!...     1   \n",
              "\n",
              "                                        cleaned_text  \n",
              "0  wife took birthday breakfast excellent weather...  \n",
              "1  idea people give bad reviews place goes show p...  \n",
              "2  love gyro plate rice good also dig candy selec...  \n",
              "3  rosie dakota love chaparral dog park convenien...  \n",
              "4  general manager scott petello good egg detail ...  "
            ]
          },
          "metadata": {
            "tags": []
          },
          "execution_count": 15
        }
      ]
    },
    {
      "metadata": {
        "id": "9LNqHmaKcJtp",
        "colab_type": "code",
        "colab": {}
      },
      "cell_type": "code",
      "source": [
        "#Bag of words\n",
        "from sklearn.feature_extraction.text import CountVectorizer#CountVectorizer is used to create bag of words which will help machine learn whether a certan word is good or bad\n",
        "bow_transformer = CountVectorizer(analyzer=clean_document).fit(x)"
      ],
      "execution_count": 0,
      "outputs": []
    },
    {
      "metadata": {
        "id": "52fO28nneL1V",
        "colab_type": "code",
        "colab": {}
      },
      "cell_type": "code",
      "source": [
        "X = bow_transformer.transform(x) # if we don't use transform function that we get ValueError: could not convert string to float:"
      ],
      "execution_count": 0,
      "outputs": []
    },
    {
      "metadata": {
        "id": "SbCGoVxLeQks",
        "colab_type": "code",
        "colab": {}
      },
      "cell_type": "code",
      "source": [
        "from sklearn.model_selection import train_test_split\n",
        "X_train, X_test, y_train, y_test = train_test_split(X, y, test_size=0.3, random_state=101)"
      ],
      "execution_count": 0,
      "outputs": []
    },
    {
      "metadata": {
        "id": "i4MMQ7JKehZr",
        "colab_type": "code",
        "colab": {}
      },
      "cell_type": "code",
      "source": [
        "#Gradient Boosting Classifier\n",
        "from sklearn.ensemble import GradientBoostingClassifier\n",
        "model= GradientBoostingClassifier(n_estimators=100, learning_rate=1.0, max_depth=1, random_state=0)\n",
        "model.fit(X_train, y_train)\n",
        "predicted= model.predict(X_test)"
      ],
      "execution_count": 0,
      "outputs": []
    },
    {
      "metadata": {
        "id": "klU6mrVEepeP",
        "colab_type": "code",
        "colab": {
          "base_uri": "https://localhost:8080/",
          "height": 230
        },
        "outputId": "d797e694-583e-4136-d65a-15bd87e1a4b3"
      },
      "cell_type": "code",
      "source": [
        "from sklearn.metrics import confusion_matrix, classification_report\n",
        "print(confusion_matrix(y_test, predicted))\n",
        "print('\\n')\n",
        "print(classification_report(y_test, predicted))\n",
        "model.score(X_train,y_train)"
      ],
      "execution_count": 20,
      "outputs": [
        {
          "output_type": "stream",
          "text": [
            "[[ 483  453]\n",
            " [ 202 1862]]\n",
            "\n",
            "\n",
            "             precision    recall  f1-score   support\n",
            "\n",
            "          0       0.71      0.52      0.60       936\n",
            "          1       0.80      0.90      0.85      2064\n",
            "\n",
            "avg / total       0.77      0.78      0.77      3000\n",
            "\n"
          ],
          "name": "stdout"
        },
        {
          "output_type": "execute_result",
          "data": {
            "text/plain": [
              "0.8314285714285714"
            ]
          },
          "metadata": {
            "tags": []
          },
          "execution_count": 20
        }
      ]
    },
    {
      "metadata": {
        "id": "0QPcjvK9ezr8",
        "colab_type": "code",
        "colab": {
          "base_uri": "https://localhost:8080/",
          "height": 34
        },
        "outputId": "0bbf9b66-6554-4a45-88f6-206243318a7e"
      },
      "cell_type": "code",
      "source": [
        "print(model.predict(bow_transformer.transform(['love the gyro plate rice is so good also dig their candy selection '])))"
      ],
      "execution_count": 24,
      "outputs": [
        {
          "output_type": "stream",
          "text": [
            "['1']\n"
          ],
          "name": "stdout"
        }
      ]
    },
    {
      "metadata": {
        "id": "EoDvDfbBgYML",
        "colab_type": "code",
        "colab": {
          "base_uri": "https://localhost:8080/",
          "height": 34
        },
        "outputId": "6f06933f-98e6-4cbd-c80e-ff92eed6abcb"
      },
      "cell_type": "code",
      "source": [
        "print(model.predict(bow_transformer.transform(['bad food, not upto the mark'])))"
      ],
      "execution_count": 27,
      "outputs": [
        {
          "output_type": "stream",
          "text": [
            "['0']\n"
          ],
          "name": "stdout"
        }
      ]
    },
    {
      "metadata": {
        "id": "OXKLS_shhM0Q",
        "colab_type": "code",
        "colab": {
          "base_uri": "https://localhost:8080/",
          "height": 70
        },
        "outputId": "60c18b6b-8852-47bd-a153-09461b82501c"
      },
      "cell_type": "code",
      "source": [
        "#KNN Classifier\n",
        "from sklearn.neighbors import KNeighborsClassifier\n",
        "neigh = KNeighborsClassifier(n_neighbors=3)\n",
        "neigh.fit(X, y)"
      ],
      "execution_count": 28,
      "outputs": [
        {
          "output_type": "execute_result",
          "data": {
            "text/plain": [
              "KNeighborsClassifier(algorithm='auto', leaf_size=30, metric='minkowski',\n",
              "           metric_params=None, n_jobs=1, n_neighbors=3, p=2,\n",
              "           weights='uniform')"
            ]
          },
          "metadata": {
            "tags": []
          },
          "execution_count": 28
        }
      ]
    },
    {
      "metadata": {
        "id": "8inP4FKghP_i",
        "colab_type": "code",
        "colab": {
          "base_uri": "https://localhost:8080/",
          "height": 230
        },
        "outputId": "319e985f-d5b8-499f-819c-161f2eba0a08"
      },
      "cell_type": "code",
      "source": [
        "predsknn=neigh.predict(X_test)\n",
        "\n",
        "from sklearn.metrics import confusion_matrix, classification_report\n",
        "print(confusion_matrix(y_test, predsknn))\n",
        "print('\\n')\n",
        "print(classification_report(y_test, predsknn))\n",
        "neigh.score(X_train,y_train)"
      ],
      "execution_count": 29,
      "outputs": [
        {
          "output_type": "stream",
          "text": [
            "[[ 545  391]\n",
            " [ 152 1912]]\n",
            "\n",
            "\n",
            "             precision    recall  f1-score   support\n",
            "\n",
            "          0       0.78      0.58      0.67       936\n",
            "          1       0.83      0.93      0.88      2064\n",
            "\n",
            "avg / total       0.82      0.82      0.81      3000\n",
            "\n"
          ],
          "name": "stdout"
        },
        {
          "output_type": "execute_result",
          "data": {
            "text/plain": [
              "0.8184285714285714"
            ]
          },
          "metadata": {
            "tags": []
          },
          "execution_count": 29
        }
      ]
    },
    {
      "metadata": {
        "id": "w_oMJ3n3hZnD",
        "colab_type": "code",
        "colab": {
          "base_uri": "https://localhost:8080/",
          "height": 34
        },
        "outputId": "9a071cd7-f22d-4c49-8525-7a8498c421db"
      },
      "cell_type": "code",
      "source": [
        "print(neigh.predict(bow_transformer.transform(['Very healthy and delicious food, love the beer too, Apple Cider was my favourite :)'])))"
      ],
      "execution_count": 31,
      "outputs": [
        {
          "output_type": "stream",
          "text": [
            "['1']\n"
          ],
          "name": "stdout"
        }
      ]
    },
    {
      "metadata": {
        "id": "HEYgt4BviH75",
        "colab_type": "code",
        "colab": {
          "base_uri": "https://localhost:8080/",
          "height": 34
        },
        "outputId": "21aac904-4dfe-41bc-c86d-197fd5412821"
      },
      "cell_type": "code",
      "source": [
        "print(neigh.predict(bow_transformer.transform(['not happy with anything'])))"
      ],
      "execution_count": 40,
      "outputs": [
        {
          "output_type": "stream",
          "text": [
            "['0']\n"
          ],
          "name": "stdout"
        }
      ]
    },
    {
      "metadata": {
        "id": "Q37l7sXrnejq",
        "colab_type": "code",
        "colab": {}
      },
      "cell_type": "code",
      "source": [
        "from sklearn.linear_model import LogisticRegression\n",
        "#create a model\n",
        "classifier=(LogisticRegression())\n",
        "#fitting training data to  the model\n",
        "classifier.fit(X_train,y_train)\n",
        "Y_pred=classifier.predict(X_test)\n",
        "# print(list(zip(y_test,Y_pred)))"
      ],
      "execution_count": 0,
      "outputs": []
    },
    {
      "metadata": {
        "id": "ArY-45JrnoIx",
        "colab_type": "code",
        "colab": {
          "base_uri": "https://localhost:8080/",
          "height": 212
        },
        "outputId": "6571b0e2-fccc-4a8f-fc3b-0c31d7128c1c"
      },
      "cell_type": "code",
      "source": [
        "from sklearn.metrics import confusion_matrix,accuracy_score,classification_report\n",
        "\n",
        "cfm=confusion_matrix(y_test,Y_pred)\n",
        "print(cfm)\n",
        "\n",
        "print(\"Classification report:\")\n",
        "\n",
        "print(classification_report(y_test,Y_pred))\n",
        "\n",
        "acc=accuracy_score(y_test,Y_pred)\n",
        "print(\"Accuracy of the model:\",acc)"
      ],
      "execution_count": 70,
      "outputs": [
        {
          "output_type": "stream",
          "text": [
            "[[ 628  308]\n",
            " [ 256 1808]]\n",
            "Classification report:\n",
            "             precision    recall  f1-score   support\n",
            "\n",
            "          0       0.71      0.67      0.69       936\n",
            "          1       0.85      0.88      0.87      2064\n",
            "\n",
            "avg / total       0.81      0.81      0.81      3000\n",
            "\n",
            "Accuracy of the model: 0.812\n"
          ],
          "name": "stdout"
        }
      ]
    },
    {
      "metadata": {
        "id": "MGz8DSGmn3N3",
        "colab_type": "code",
        "colab": {
          "base_uri": "https://localhost:8080/",
          "height": 34
        },
        "outputId": "e06715d6-01e8-456c-f414-1de077551813"
      },
      "cell_type": "code",
      "source": [
        "print(classifier.predict(bow_transformer.transform(['Glad I came, food was good loved the fact that it is a pet friendly place also the beer was amazing'])))"
      ],
      "execution_count": 73,
      "outputs": [
        {
          "output_type": "stream",
          "text": [
            "['1']\n"
          ],
          "name": "stdout"
        }
      ]
    },
    {
      "metadata": {
        "id": "N-dx1xLto0ie",
        "colab_type": "code",
        "colab": {
          "base_uri": "https://localhost:8080/",
          "height": 34
        },
        "outputId": "bbfc631d-e475-490e-c7f7-65dc7e19beb8"
      },
      "cell_type": "code",
      "source": [
        "print(classifier.predict(bow_transformer.transform(['ambiance was bad, disliked everything']))) "
      ],
      "execution_count": 74,
      "outputs": [
        {
          "output_type": "stream",
          "text": [
            "['0']\n"
          ],
          "name": "stdout"
        }
      ]
    }
  ]
}